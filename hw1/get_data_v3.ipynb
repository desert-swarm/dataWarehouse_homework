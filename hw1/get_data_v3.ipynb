{
 "cells": [
  {
   "cell_type": "code",
   "execution_count": null,
   "metadata": {},
   "outputs": [],
   "source": [
    "import pandas as pd\n",
    "from sodapy import Socrata # most likely won't use it\n",
    "import boto3\n",
    "import requests\n",
    "import csv\n",
    "import json\n",
    "import os\n",
    "import configparser"
   ]
  },
  {
   "cell_type": "code",
   "execution_count": null,
   "metadata": {},
   "outputs": [],
   "source": [
    "config = configparser.ConfigParser()\n",
    "config.read('config.ini')\n",
    "#config.sections()\n",
    "\n",
    "aws_access_key = config['default']['aws_access_key_id']\n",
    "aws_secret_key = config['default']['aws_secret_access_key']\n",
    "\n",
    "# set environment variables\n",
    "os.environ['AWS_ACCESS_KEY_ID'] = aws_access_key\n",
    "os.environ['AWS_SECRET_ACCESS_KEY'] = aws_secret_key"
   ]
  },
  {
   "cell_type": "code",
   "execution_count": null,
   "metadata": {},
   "outputs": [],
   "source": [
    "# Create a boto3 S3 client\n",
    "s3 = boto3.client('s3')\n",
    "\n",
    "\n",
    "rec_num = 50000\n",
    "total_rec = 0 # 2080000\n",
    "# x = 0 # to number the s3 key/objects\n",
    "for i in range(42):\n",
    "  url = f\"https://data.cityofnewyork.us/resource/h9gi-nx95.json?$limit={rec_num}&$offset={total_rec}\" \n",
    "  resp = requests.get(url)\n",
    "\n",
    "  bucket = 'datawarehouse2024'\n",
    "  object_key = f'dw_hw/nyc_crash_data/opendata_{i+1}.json'\n",
    "  data = json.dumps(resp.json())\n",
    "\n",
    "  # Upload the data to S3\n",
    "  s3.put_object(Bucket=bucket, Key=object_key, Body=data)\n",
    "  \n",
    "  total_rec = total_rec + rec_num\n",
    "  #print(resp.json())"
   ]
  }
 ],
 "metadata": {
  "kernelspec": {
   "display_name": "aws_env",
   "language": "python",
   "name": "python3"
  },
  "language_info": {
   "name": "python",
   "version": "3.12.3"
  }
 },
 "nbformat": 4,
 "nbformat_minor": 2
}
